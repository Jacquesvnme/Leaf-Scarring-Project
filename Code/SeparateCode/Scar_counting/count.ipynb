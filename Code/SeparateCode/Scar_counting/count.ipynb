{
 "cells": [
  {
   "cell_type": "code",
   "execution_count": 1,
   "metadata": {},
   "outputs": [
    {
     "name": "stdout",
     "output_type": "stream",
     "text": [
      "Total scars identified (merged): 28\n"
     ]
    }
   ],
   "source": [
    "import cv2\n",
    "import numpy as np\n",
    "\n",
    "# Load the water hyacinth scar image\n",
    "image_path = r\"C:\\Users\\Henko\\Documents\\MLG382\\MLG_Project1\\Leaf-Scarring-Project\\Code\\Scar_counting\\Leaf_1.png\"\n",
    "image = cv2.imread(image_path)\n",
    "cv2.imshow(\"Original\", image)\n",
    "\n",
    "# Copy the image for masking\n",
    "result = image.copy()\n",
    "\n",
    "# Convert image to HSV color space\n",
    "image_hsv = cv2.cvtColor(image, cv2.COLOR_BGR2HSV)\n",
    "\n",
    "# Define HSV color range for brownish scars on water hyacinth\n",
    "lower_brown = np.array([10, 50, 20])   # Lower bound for brown hues\n",
    "upper_brown = np.array([20, 255, 200]) # Upper bound for brown hues\n",
    "\n",
    "# Create mask based on the defined brown color range\n",
    "brown_mask = cv2.inRange(image_hsv, lower_brown, upper_brown)\n",
    "\n",
    "# Apply mask to get only the brown regions\n",
    "result = cv2.bitwise_and(result, result, mask=brown_mask)\n",
    "\n",
    "# Find contours in the brown mask\n",
    "contours, _ = cv2.findContours(brown_mask, cv2.RETR_EXTERNAL, cv2.CHAIN_APPROX_SIMPLE)\n",
    "\n",
    "# Initialize a list to keep track of merged contours\n",
    "merged_contours = []\n",
    "\n",
    "# Distance threshold in pixels (for 0.1 cm)\n",
    "distance_threshold = 10  # 0.1 cm in pixels (100 pixels/cm * 0.1 cm)\n",
    "\n",
    "# Process contours to merge close scars\n",
    "for contour in contours:\n",
    "    if len(contour) > 0:\n",
    "        # Calculate the centroid of the current contour\n",
    "        M = cv2.moments(contour)\n",
    "        if M[\"m00\"] != 0:\n",
    "            cX = int(M[\"m10\"] / M[\"m00\"])\n",
    "            cY = int(M[\"m01\"] / M[\"m00\"])\n",
    "        else:\n",
    "            continue\n",
    "\n",
    "        # Check if this centroid is too close to any existing merged contour centroid\n",
    "        too_close = False\n",
    "        for merged_contour in merged_contours:\n",
    "            # Calculate the distance between the centroids\n",
    "            merged_M = cv2.moments(merged_contour)\n",
    "            merged_cX = int(merged_M[\"m10\"] / merged_M[\"m00\"])\n",
    "            merged_cY = int(merged_M[\"m01\"] / merged_M[\"m00\"])\n",
    "\n",
    "            distance = np.sqrt((cX - merged_cX) ** 2 + (cY - merged_cY) ** 2)\n",
    "            if distance < distance_threshold:\n",
    "                too_close = True\n",
    "                break\n",
    "\n",
    "        # If it's not too close to any merged contour, add it\n",
    "        if not too_close:\n",
    "            merged_contours.append(contour)\n",
    "\n",
    "# Count the number of merged scars\n",
    "scar_count = len(merged_contours)\n",
    "\n",
    "# Show results\n",
    "print(f\"Total scars identified (merged): {scar_count}\")\n",
    "cv2.imshow('Brown Mask', brown_mask)\n",
    "cv2.imshow('Result with Brown Scars Highlighted', result)\n",
    "\n",
    "cv2.waitKey(0)\n",
    "cv2.destroyAllWindows()\n"
   ]
  },
  {
   "cell_type": "markdown",
   "metadata": {},
   "source": []
  }
 ],
 "metadata": {
  "kernelspec": {
   "display_name": "base",
   "language": "python",
   "name": "python3"
  },
  "language_info": {
   "codemirror_mode": {
    "name": "ipython",
    "version": 3
   },
   "file_extension": ".py",
   "mimetype": "text/x-python",
   "name": "python",
   "nbconvert_exporter": "python",
   "pygments_lexer": "ipython3",
   "version": "3.11.7"
  }
 },
 "nbformat": 4,
 "nbformat_minor": 2
}
