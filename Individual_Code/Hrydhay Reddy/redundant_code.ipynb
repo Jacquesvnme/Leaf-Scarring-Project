{
 "cells": [
  {
   "cell_type": "markdown",
   "metadata": {},
   "source": [
    "# Backup or Redundant codes"
   ]
  },
  {
   "cell_type": "markdown",
   "metadata": {},
   "source": [
    "### CheckList\n",
    "\n",
    "[x] : imports <br>\n",
    "[x] : login credentials\n",
    "\n",
    "---\n",
    "\n",
    "[x] : test connection <br>\n",
    "[x] : test connection TEST DONE\n",
    "\n",
    "---\n",
    "\n",
    "[x] : select statement <br>\n",
    "[x] : select statement TEST DONE\n",
    "\n",
    "---\n",
    "\n",
    "[x] : insert statement <br>\n",
    "[x] : select statement TEST DONE\n",
    "\n",
    "---\n",
    "\n",
    "[x] : update statement <br>\n",
    "[x] : select statement TEST DONE\n",
    "\n",
    "---\n",
    "\n",
    "[x] : delete statement <br>\n",
    "[x] : select statement TEST DONE\n",
    "\n",
    "---\n",
    "\n",
    "[o] : save to csv <br>\n",
    "[o] : select statement TEST DONE"
   ]
  },
  {
   "cell_type": "markdown",
   "metadata": {},
   "source": [
    "Used to select mass data from the 3 tables in database\n",
    "REPLACED with large full join statement that selects single users only"
   ]
  },
  {
   "cell_type": "code",
   "execution_count": null,
   "metadata": {
    "vscode": {
     "languageId": "plaintext"
    }
   },
   "outputs": [],
   "source": [
    "def selectDetails(conn, imagedata_id):\n",
    "    cur = conn.cursor()\n",
    "    cur.execute(f'SELECT * FROM public.\\\"details\\\"')\n",
    "    rows = cur.fetchall()\n",
    "    cur.close()\n",
    "    return rows\n",
    "\n",
    "def selectImages(conn):\n",
    "    cur = conn.cursor()\n",
    "    cur.execute(f'SELECT * FROM public.\\\"images\\\"')\n",
    "    rows = cur.fetchall()\n",
    "    cur.close()\n",
    "    return rows\n",
    "\n",
    "def selectImageData(conn):\n",
    "    cur = conn.cursor()\n",
    "    cur.execute(f'SELECT * FROM public.\\\"imagedata\\\"')\n",
    "    rows = cur.fetchall()\n",
    "    cur.close()\n",
    "    return rows\n",
    "\n",
    "def otherCodeSection():\n",
    "    tableData1 = selectDetails(conn, imagedata_id)\n",
    "    tableData2 = selectImages(conn, imagedata_id)\n",
    "    tableData3 = selectImageData(conn, imagedata_id)\n",
    "return tableData1, tableData2, tableData3\n",
    "\n",
    "tableData1, tableData2, tableData3 = selectCollection(imagedata_id)"
   ]
  },
  {
   "cell_type": "markdown",
   "metadata": {},
   "source": [
    "Used to insert mass data from the 3 tables in database\n",
    "REPLACED with 1 large statement"
   ]
  },
  {
   "cell_type": "code",
   "execution_count": null,
   "metadata": {
    "vscode": {
     "languageId": "plaintext"
    }
   },
   "outputs": [],
   "source": [
    "def insertDetails(conn, data1, data2, data3):\n",
    "    cur = conn.cursor()\n",
    "    cur.execute(f'''\n",
    "        INSERT INTO public.\\\"details\\\" (Details_ID,ImageLocation,ImageDate) \n",
    "        VALUES ({data1},'{data2}','{data3}')\n",
    "                ''')\n",
    "    conn.commit()\n",
    "    cur.close()\n",
    "\n",
    "def insertImages(conn, data4, data5, data6, data7):\n",
    "    cur = conn.cursor()\n",
    "    cur.execute(f'''\n",
    "        INSERT INTO public.\\\"images\\\" (Image_ID, Details_ID, ImagePathBack, ImagePathFront)\n",
    "        VALUES ({data4},{data5},'{data6}','{data7}')\n",
    "                ''')\n",
    "    conn.commit()\n",
    "    cur.close()\n",
    "\n",
    "def insertImageData(conn, data8, data9, data10, data11, data12, data13, data14, data15, data16, data17):\n",
    "    cur = conn.cursor()\n",
    "    cur.execute(f'''\n",
    "        INSERT INTO public.\\\"imagedata\\\" (ImageData_ID,Image_ID,ImageLable,Lamina_Area,Lamina_Length,Lamina_Width,Scar_Count,Scar_Area,DamagePercentage,Petiole_Length)\n",
    "        VALUES ({data8},{data9},'{data10}',{data11},{data12},{data13},{data14},{data15},{data16},{data17})\n",
    "                ''')\n",
    "    conn.commit()\n",
    "    cur.close()\n",
    "\n",
    "insertDetails(conn, data1, data2, data3)\n",
    "insertImages(conn, data4, data5, data6, data7)\n",
    "insertImageData(conn, data8, data9, data10, data11, data12, data13, data14, data15, data16, data17)"
   ]
  },
  {
   "cell_type": "markdown",
   "metadata": {},
   "source": [
    "Previous Update Statements"
   ]
  },
  {
   "cell_type": "code",
   "execution_count": null,
   "metadata": {
    "vscode": {
     "languageId": "plaintext"
    }
   },
   "outputs": [],
   "source": [
    "def updateDetails(conn):\n",
    "    cur = conn.cursor()\n",
    "    cur.execute(\"UPDATE public.\\\"details\\\" SET ImageLocation = {data1}, ImageDate = {data2} WHERE Details_ID = {data3}\")\n",
    "    conn.commit()\n",
    "    cur.close()\n",
    "\n",
    "def updateImages(conn):\n",
    "    cur = conn.cursor()\n",
    "    cur.execute(\"UPDATE public.\\\"images\\\" SET Details_ID = {data4}, ImagePathBack = {data5}, ImagePathFront = {data6} WHERE Image_ID = {data7}\")\n",
    "    conn.commit()\n",
    "    cur.close()\n",
    "\n",
    "def updateImageData(conn):\n",
    "    cur = conn.cursor()\n",
    "    cur.execute(\"UPDATE public.\\\"imagedata\\\" SET Image_ID = {data8}, ImageLable = {data9}, Lamina_Area = {data10}, Lamina_Length = {data11}, Lamina_Width = {data12}, Scar_Count = {data13}, Scar_Area = {data14}, DamagePercentage = {data15}, Petiole_Length = {data16}  WHERE ImageData_ID = {data17}\")\n",
    "    conn.commit()\n",
    "    cur.close()\n",
    "\n",
    "updateDetails(conn)\n",
    "updateImages(conn)\n",
    "updateImageData(conn)"
   ]
  },
  {
   "cell_type": "markdown",
   "metadata": {},
   "source": [
    "Other Detele Statements"
   ]
  },
  {
   "cell_type": "code",
   "execution_count": null,
   "metadata": {
    "vscode": {
     "languageId": "plaintext"
    }
   },
   "outputs": [],
   "source": [
    "def deleteImages(conn, data4):\n",
    "    cur = conn.cursor()\n",
    "    cur.execute(f'DELETE FROM public.\\\"images\\\" WHERE Image_ID = '{data2}';')\n",
    "    conn.commit()\n",
    "    #totalAffectedRows = cur.rowcount\n",
    "    cur.close()\n",
    "\n",
    "def deleteImageData(conn, data8):\n",
    "    cur = conn.cursor()\n",
    "    cur.execute(f'DELETE FROM public.\\\"imagedata\\\" WHERE ImageData_ID = '{data3}';')\n",
    "    conn.commit()\n",
    "    #totalAffectedRows = cur.rowcount\n",
    "    cur.close()\n",
    "\n",
    "NOTE there might be a chance that we only need to delete details as PostgreSQL does cascading delete is 1 value (FK) gets deleted from Details table\n",
    "def deleteAll(conn):\n",
    "    cur = conn.cursor()\n",
    "    cur.execute(f'''\n",
    "                DELETE FROM public.\\\"details\\\";\n",
    "                DELETE FROM public.\\\"images\\\";\n",
    "                DELETE FROM public.\\\"imagedata\\\";\n",
    "                ''')\n",
    "    conn.commit()\n",
    "    #totalAffectedRows = cur.rowcount\n",
    "    cur.close()"
   ]
  }
 ],
 "metadata": {
  "language_info": {
   "name": "python"
  }
 },
 "nbformat": 4,
 "nbformat_minor": 2
}
