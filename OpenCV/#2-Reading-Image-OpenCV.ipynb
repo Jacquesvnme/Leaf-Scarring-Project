{
 "cells": [
  {
   "cell_type": "markdown",
   "metadata": {},
   "source": [
    "# * Main Webpage:\n",
    "https://www.geeksforgeeks.org/opencv-python-tutorial/\n",
    "\n",
    "Current page:\n",
    "https://www.geeksforgeeks.org/reading-image-opencv-using-python/?ref=lbp"
   ]
  },
  {
   "cell_type": "markdown",
   "metadata": {},
   "source": [
    "# Reading an image in OpenCV using Python\n",
    "In this article, we’ll try to open an image by using OpenCV (Open Source Computer Vision) library.  Following types of files are supported in OpenCV library:\n",
    "\n",
    "- Windows bitmaps – *.bmp, *.dib\n",
    "- JPEG files – *.jpeg, *.jpg\n",
    "- Portable Network Graphics – *.png \n",
    "- WebP – *.webp \n",
    "- Sun rasters – *.sr, *.ras \n",
    "- TIFF files – *.tiff, *.tif \n",
    "- Raster and Vector geospatial data supported by GDAL\n",
    "\n",
    "To use the OpenCV library in python, we need to install these libraries as a prerequisite:\n",
    "1. Numpy Library : The computer processes images in the form of a matrix for which NumPy is used and  OpenCV uses it in the background.\n",
    "2. OpenCV python : OpenCV library previously it was cv but the updated version is cv2. It is used to manipulate images and videos."
   ]
  },
  {
   "cell_type": "code",
   "execution_count": null,
   "metadata": {},
   "outputs": [],
   "source": [
    "# pip install opencv-python\n",
    "# pip install numpy\n",
    "# pip install matplotlib"
   ]
  },
  {
   "cell_type": "markdown",
   "metadata": {},
   "source": [
    "The steps to read and display an image in OpenCV are:\n",
    "1. Read an image using imread() function.\n",
    "2. Create a GUI window and display image using imshow() function.\n",
    "3. Use function waitkey(0) to hold the image window on the screen by the specified number of seconds, o means till the user closes it, it will hold GUI window on the screen.\n",
    "4. Delete image window from the memory after displaying using destroyAllWindows() function.\n",
    "\n",
    "Let’s start reading an image. using cv2.\n",
    "To read the images cv2.imread() method is used. This method loads an image from the specified file. If the image cannot be read (because of missing file, improper permissions, unsupported or invalid format) then this method returns an empty matrix."
   ]
  }
 ],
 "metadata": {
  "language_info": {
   "name": "python"
  }
 },
 "nbformat": 4,
 "nbformat_minor": 2
}
