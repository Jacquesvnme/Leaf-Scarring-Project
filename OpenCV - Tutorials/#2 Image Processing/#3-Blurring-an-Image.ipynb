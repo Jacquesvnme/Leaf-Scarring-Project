{
 "cells": [
  {
   "cell_type": "markdown",
   "metadata": {},
   "source": [
    "# Python | Image blurring using OpenCV:\n",
    "https://www.geeksforgeeks.org/python-image-blurring-using-opencv/\n",
    "\n",
    "## Main Webpage:\n",
    "https://www.geeksforgeeks.org/opencv-python-tutorial/"
   ]
  },
  {
   "cell_type": "markdown",
   "metadata": {},
   "source": []
  }
 ],
 "metadata": {
  "language_info": {
   "name": "python"
  }
 },
 "nbformat": 4,
 "nbformat_minor": 2
}
